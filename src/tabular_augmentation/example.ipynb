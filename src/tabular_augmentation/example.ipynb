{
 "cells": [
  {
   "cell_type": "markdown",
   "source": [
    "### 构造小样本数据集"
   ],
   "metadata": {
    "collapsed": false
   }
  },
  {
   "cell_type": "code",
   "execution_count": 5,
   "outputs": [],
   "source": [
    "import pandas as pd\n",
    "import numpy as np\n",
    "\n",
    "import sklearn.datasets as datasets\n",
    "from sklearn.model_selection import train_test_split\n",
    "\n",
    "seed = 42\n",
    "\n",
    "data = datasets.load_breast_cancer()\n",
    "df = pd.DataFrame(np.c_[data['data'], data['target']],\n",
    "                  columns= np.append(data['feature_names'], ['target']))"
   ],
   "metadata": {
    "collapsed": false
   }
  },
  {
   "cell_type": "code",
   "execution_count": 6,
   "outputs": [],
   "source": [
    "x_train, x_test, y_train, y_test = train_test_split(df[data['feature_names']], df['target'], test_size=0.3, random_state=seed)"
   ],
   "metadata": {
    "collapsed": false
   }
  },
  {
   "cell_type": "code",
   "execution_count": 7,
   "outputs": [],
   "source": [
    "x_few_train, _, y_few_train, _ = train_test_split(x_train, y_train, train_size=50, random_state=seed)"
   ],
   "metadata": {
    "collapsed": false
   }
  },
  {
   "cell_type": "markdown",
   "source": [
    "### 获取baseline"
   ],
   "metadata": {
    "collapsed": false
   }
  },
  {
   "cell_type": "code",
   "execution_count": 8,
   "outputs": [],
   "source": [
    "from sklearn.linear_model import LogisticRegression\n",
    "from sklearn.metrics import accuracy_score, f1_score, roc_auc_score, confusion_matrix, precision_score, \\\n",
    "    recall_score, average_precision_score\n",
    "from sklearn.neural_network import MLPClassifier\n",
    "from sklearn.ensemble import RandomForestClassifier, AdaBoostClassifier\n",
    "from sklearn import svm\n",
    "from sklearn.tree import DecisionTreeClassifier\n",
    "from sklearn.neighbors import KNeighborsClassifier\n",
    "\n",
    "\n",
    "import xgboost as xgb\n",
    "def tabular_model_test(x_train, y_train, x_test, y_test,\n",
    "                       model_name='logistic_regression',\n",
    "                       sample_weight=None, model_params=None):\n",
    "    \"\"\"适用于表格结构化数据二分类任务\"\"\"\n",
    "    # 训练模型\n",
    "    # sample_weight = sample_weight if sample_weight is not None else None\n",
    "    if model_name == 'xgb':\n",
    "        xgb_params = {\n",
    "            'objective': 'binary:logistic',\n",
    "            'seed': seed\n",
    "        }\n",
    "        if model_params is not None:\n",
    "            xgb_params.update(model_params)\n",
    "        model = xgb.XGBClassifier(**xgb_params)\n",
    "        model.fit(x_train, y_train, eval_metric=['auc'], sample_weight=sample_weight)\n",
    "    elif model_name == 'logistic_regression':\n",
    "        model = LogisticRegression(random_state=seed)\n",
    "        model.fit(x_train, y_train, sample_weight=sample_weight)\n",
    "    elif model_name == 'rf':\n",
    "        model = RandomForestClassifier(random_state=seed)\n",
    "        model.fit(x_train, y_train)\n",
    "    elif model_name == 'decision_tree':\n",
    "        model = DecisionTreeClassifier(random_state=seed)\n",
    "        model.fit(x_train, y_train, sample_weight=sample_weight)\n",
    "    elif model_name == 'adaboost':\n",
    "        model = AdaBoostClassifier(random_state=seed)\n",
    "        model.fit(x_train, y_train, sample_weight=sample_weight)\n",
    "    elif model_name == \"knn\":\n",
    "        model = KNeighborsClassifier()\n",
    "        model.fit(x_train, y_train)\n",
    "    elif model_name == 'mlp':\n",
    "        model = MLPClassifier(random_state=seed, early_stopping=True, hidden_layer_sizes=128)\n",
    "        model.fit(x_train, y_train)\n",
    "    elif model_name == 'svm':\n",
    "        model = svm.SVC(gamma='scale', C=1.0, decision_function_shape='ovr', kernel='rbf')\n",
    "        model.fit(x_train, y_train)\n",
    "    else:\n",
    "        # default model\n",
    "        model = LogisticRegression()\n",
    "        model.fit(x_train, y_train, sample_weight=sample_weight)\n",
    "\n",
    "    # 预测\n",
    "    test_pred = model.predict(x_test)\n",
    "\n",
    "    # 将概率转换为类别\n",
    "    test_pred_label = [1 if p >= 0.5 else 0 for p in test_pred]\n",
    "\n",
    "    # 计算准确率和AUC\n",
    "    test_accuracy = accuracy_score(y_test, test_pred_label)\n",
    "    test_precision = precision_score(y_test, test_pred_label)\n",
    "    test_f1 = f1_score(y_test, test_pred_label)\n",
    "    test_auc = roc_auc_score(y_test, test_pred)\n",
    "    test_recall = recall_score(y_test, test_pred_label)\n",
    "    test_ap = average_precision_score(y_test, test_pred_label)\n",
    "    # 计算混淆矩阵\n",
    "    test_confusion_matrix = confusion_matrix(y_test, test_pred_label)\n",
    "\n",
    "    # print(f'Train Accuracy: {train_accuracy}')\n",
    "    print(f'Test Accuracy: {test_accuracy}')\n",
    "    print(f'Test precision: {test_precision}')\n",
    "    print(f'Test F1: {test_f1}')\n",
    "    print(f'Test AUC: {test_auc}')\n",
    "    print(f'Test AP: {test_ap}')\n",
    "    # print(train_confusion_matrix)\n",
    "    print('Test Confusion Matrix:')\n",
    "    print(test_confusion_matrix)\n",
    "    # return test_accuracy, test_precision, test_f1, test_auc, test_ap\n",
    "\n"
   ],
   "metadata": {
    "collapsed": false
   }
  },
  {
   "cell_type": "markdown",
   "source": [
    "#### 全量训练数据的训练情况"
   ],
   "metadata": {
    "collapsed": false
   }
  },
  {
   "cell_type": "code",
   "execution_count": 9,
   "outputs": [
    {
     "name": "stdout",
     "output_type": "stream",
     "text": [
      "Test Accuracy: 0.9824561403508771\n",
      "Test precision: 0.981651376146789\n",
      "Test F1: 0.9861751152073732\n",
      "Test AUC: 0.9794973544973544\n",
      "Test AP: 0.9784099647692115\n",
      "Test Confusion Matrix:\n",
      "[[ 61   2]\n",
      " [  1 107]]\n"
     ]
    }
   ],
   "source": [
    "\n",
    "tabular_model_test(x_train, y_train, x_test, y_test, model_name='xgb')"
   ],
   "metadata": {
    "collapsed": false
   }
  },
  {
   "cell_type": "code",
   "execution_count": 10,
   "outputs": [
    {
     "name": "stdout",
     "output_type": "stream",
     "text": [
      "Test Accuracy: 0.9298245614035088\n",
      "Test precision: 0.9210526315789473\n",
      "Test F1: 0.9459459459459458\n",
      "Test AUC: 0.9146825396825398\n",
      "Test AP: 0.9130116959064327\n",
      "Test Confusion Matrix:\n",
      "[[ 54   9]\n",
      " [  3 105]]\n"
     ]
    }
   ],
   "source": [
    "# 小样本训练情况\n",
    "tabular_model_test(x_few_train, y_few_train, x_test, y_test, model_name='xgb')"
   ],
   "metadata": {
    "collapsed": false
   }
  },
  {
   "cell_type": "markdown",
   "source": [
    "### SMOTE增强使用示例"
   ],
   "metadata": {
    "collapsed": false
   }
  },
  {
   "cell_type": "code",
   "execution_count": 11,
   "outputs": [
    {
     "name": "stdout",
     "output_type": "stream",
     "text": [
      "Test Accuracy: 0.9649122807017544\n",
      "Test precision: 0.9553571428571429\n",
      "Test F1: 0.9727272727272727\n",
      "Test AUC: 0.9556878306878308\n",
      "Test AP: 0.9523591966026177\n",
      "Test Confusion Matrix:\n",
      "[[ 58   5]\n",
      " [  1 107]]\n"
     ]
    },
    {
     "name": "stderr",
     "output_type": "stream",
     "text": [
      "Intel(R) Extension for Scikit-learn* enabled (https://github.com/intel/scikit-learn-intelex)\n"
     ]
    }
   ],
   "source": [
    "from smote import smote_augmentation\n",
    "x_synthesis, y_synthesis = smote_augmentation(x_few_train, y_few_train, 'SVMSMOTE', seed=seed,\n",
    "                                              oversample_num=100, positive_ratio=None,\n",
    "                                              knn_neighbors=3)\n",
    "tabular_model_test(x_synthesis, y_synthesis, x_test, y_test, model_name='xgb')\n"
   ],
   "metadata": {
    "collapsed": false
   }
  },
  {
   "cell_type": "markdown",
   "source": [
    "### Mixup增强使用示例"
   ],
   "metadata": {
    "collapsed": false
   }
  },
  {
   "cell_type": "code",
   "execution_count": 12,
   "outputs": [
    {
     "name": "stdout",
     "output_type": "stream",
     "text": [
      "do vanilla mixup....\n",
      "positive: 160.0 negative: 128.0\n",
      "Test Accuracy: 0.9532163742690059\n",
      "Test precision: 0.9464285714285714\n",
      "Test F1: 0.9636363636363636\n",
      "Test AUC: 0.943121693121693\n",
      "Test AP: 0.9405980228348649\n",
      "Test Confusion Matrix:\n",
      "[[ 57   6]\n",
      " [  2 106]]\n"
     ]
    }
   ],
   "source": [
    "from mixup import mixup_augmentation_with_weight\n",
    "method = 'vanilla'\n",
    "x_synthesis, y_synthesis, sample_weight = mixup_augmentation_with_weight(\n",
    "            x_few_train, y_few_train, oversample_num=200, alpha=1, beta=1, mixup_type=method, seed=seed, rebalanced_ita=1)\n",
    "tabular_model_test(x_synthesis, y_synthesis, x_test, y_test, model_name='xgb', sample_weight=sample_weight)"
   ],
   "metadata": {
    "collapsed": false
   }
  },
  {
   "cell_type": "code",
   "execution_count": 13,
   "outputs": [
    {
     "name": "stdout",
     "output_type": "stream",
     "text": [
      "do noisy mixup....\n",
      "positive: 160.0 negative: 128.0\n",
      "Test Accuracy: 0.9532163742690059\n",
      "Test precision: 0.9310344827586207\n",
      "Test F1: 0.9642857142857143\n",
      "Test AUC: 0.9365079365079365\n",
      "Test AP: 0.9310344827586207\n",
      "Test Confusion Matrix:\n",
      "[[ 55   8]\n",
      " [  0 108]]\n"
     ]
    }
   ],
   "source": [
    "from mixup import mixup_augmentation_with_weight\n",
    "method = 'noisy'\n",
    "x_synthesis, y_synthesis, sample_weight = mixup_augmentation_with_weight(\n",
    "            x_few_train, y_few_train, oversample_num=200, alpha=1, beta=1, mixup_type=method, seed=seed, rebalanced_ita=1)\n",
    "tabular_model_test(x_synthesis, y_synthesis, x_test, y_test, model_name='xgb', sample_weight=sample_weight)"
   ],
   "metadata": {
    "collapsed": false
   }
  },
  {
   "cell_type": "code",
   "execution_count": 14,
   "outputs": [
    {
     "name": "stdout",
     "output_type": "stream",
     "text": [
      "do rebalanced mixup....\n",
      "positive: 160.0 negative: 128.0\n",
      "Test Accuracy: 0.9532163742690059\n",
      "Test precision: 0.9464285714285714\n",
      "Test F1: 0.9636363636363636\n",
      "Test AUC: 0.943121693121693\n",
      "Test AP: 0.9405980228348649\n",
      "Test Confusion Matrix:\n",
      "[[ 57   6]\n",
      " [  2 106]]\n"
     ]
    }
   ],
   "source": [
    "from mixup import mixup_augmentation_with_weight\n",
    "method = 'rebalanced'\n",
    "x_synthesis, y_synthesis, sample_weight = mixup_augmentation_with_weight(\n",
    "            x_few_train, y_few_train, oversample_num=200, alpha=1, beta=1, mixup_type=method, seed=seed, rebalanced_ita=0.7)\n",
    "tabular_model_test(x_synthesis, y_synthesis, x_test, y_test, model_name='xgb', sample_weight=sample_weight)"
   ],
   "metadata": {
    "collapsed": false
   }
  },
  {
   "cell_type": "markdown",
   "source": [
    "### CTGAN/TVAE增强"
   ],
   "metadata": {
    "collapsed": false
   }
  },
  {
   "cell_type": "markdown",
   "source": [
    "#### CTGAN增强"
   ],
   "metadata": {
    "collapsed": false
   }
  },
  {
   "cell_type": "code",
   "execution_count": 15,
   "outputs": [
    {
     "name": "stdout",
     "output_type": "stream",
     "text": [
      "positive generator init, CTGAN\n",
      "negative generator init, CTGAN\n",
      "Test Accuracy: 0.9181286549707602\n",
      "Test precision: 0.8852459016393442\n",
      "Test F1: 0.9391304347826086\n",
      "Test AUC: 0.8888888888888888\n",
      "Test AP: 0.8852459016393442\n",
      "Test Confusion Matrix:\n",
      "[[ 49  14]\n",
      " [  0 108]]\n"
     ]
    }
   ],
   "source": [
    "from sdv_synthesizer import sdv_synthesis, sdv_synthesis_one_gan, sdv_synthesis_cvae\n",
    "method = 'CTGAN'\n",
    "\n",
    "x_synthesis, y_synthesis = sdv_synthesis(\n",
    "            x_few_train, y_few_train, method, oversample_num=5000,\n",
    "            seed=seed, init_synthesizer=True, positive_ratio=0.5,\n",
    "        )\n",
    "tabular_model_test(x_synthesis, y_synthesis, x_test, y_test, model_name='xgb')\n"
   ],
   "metadata": {
    "collapsed": false
   }
  },
  {
   "cell_type": "markdown",
   "source": [
    "#### TVAE增强"
   ],
   "metadata": {
    "collapsed": false
   }
  },
  {
   "cell_type": "code",
   "execution_count": 16,
   "outputs": [
    {
     "name": "stdout",
     "output_type": "stream",
     "text": [
      "positive generator init, TVAE\n",
      "negative generator init, TVAE\n",
      "Test Accuracy: 0.9649122807017544\n",
      "Test precision: 0.9811320754716981\n",
      "Test F1: 0.9719626168224299\n",
      "Test AUC: 0.9656084656084655\n",
      "Test AP: 0.9681856633197249\n",
      "Test Confusion Matrix:\n",
      "[[ 61   2]\n",
      " [  4 104]]\n"
     ]
    }
   ],
   "source": [
    "from sdv_synthesizer import sdv_synthesis, sdv_synthesis_cvae\n",
    "method = 'TVAE'\n",
    "\n",
    "x_synthesis, y_synthesis = sdv_synthesis(\n",
    "            x_few_train, y_few_train, method, oversample_num=5000,\n",
    "            seed=seed, init_synthesizer=True, positive_ratio=0.5,\n",
    "        )\n",
    "tabular_model_test(x_synthesis, y_synthesis, x_test, y_test, model_name='xgb')\n"
   ],
   "metadata": {
    "collapsed": false
   }
  },
  {
   "cell_type": "code",
   "execution_count": 17,
   "outputs": [
    {
     "name": "stdout",
     "output_type": "stream",
     "text": [
      "positive generator init, ConditionalTVAE\n",
      "Test Accuracy: 0.9590643274853801\n",
      "Test precision: 0.9809523809523809\n",
      "Test F1: 0.9671361502347416\n",
      "Test AUC: 0.9609788359788359\n",
      "Test AP: 0.9647776849531234\n",
      "Test Confusion Matrix:\n",
      "[[ 61   2]\n",
      " [  5 103]]\n"
     ]
    }
   ],
   "source": [
    "from sdv_synthesizer import sdv_synthesis, sdv_synthesis_cvae\n",
    "method = 'ConditionalTVAE'\n",
    "\n",
    "x_synthesis, y_synthesis = sdv_synthesis_cvae(\n",
    "            x_few_train, y_few_train, method, oversample_num=10000,\n",
    "            seed=seed, init_synthesizer=True, positive_ratio=0.5,\n",
    "        )\n",
    "tabular_model_test(x_synthesis, y_synthesis, x_test, y_test, model_name='xgb')\n"
   ],
   "metadata": {
    "collapsed": false
   }
  },
  {
   "cell_type": "code",
   "execution_count": 18,
   "outputs": [
    {
     "name": "stdout",
     "output_type": "stream",
     "text": [
      "positive generator init, DeltaTVAE\n",
      "negative generator init, DeltaTVAE\n",
      "Test Accuracy: 0.9473684210526315\n",
      "Test precision: 0.9459459459459459\n",
      "Test F1: 0.9589041095890412\n",
      "Test AUC: 0.9384920634920635\n",
      "Test AP: 0.9372135293187925\n",
      "Test Confusion Matrix:\n",
      "[[ 57   6]\n",
      " [  3 105]]\n"
     ]
    }
   ],
   "source": [
    "from sdv_synthesizer import sdv_synthesis, sdv_synthesis_cvae\n",
    "method = 'DeltaTVAE'\n",
    "\n",
    "x_synthesis, y_synthesis = sdv_synthesis(\n",
    "            x_few_train, y_few_train, method, oversample_num=10000,\n",
    "            seed=seed, init_synthesizer=True, positive_ratio=0.5,\n",
    "        )\n",
    "tabular_model_test(x_synthesis, y_synthesis, x_test, y_test, model_name='xgb')"
   ],
   "metadata": {
    "collapsed": false
   }
  },
  {
   "cell_type": "code",
   "execution_count": 19,
   "outputs": [
    {
     "name": "stdout",
     "output_type": "stream",
     "text": [
      "positive generator init, DiffTVAE\n",
      "negative generator init, DiffTVAE\n",
      "Test Accuracy: 0.9649122807017544\n",
      "Test precision: 0.9722222222222222\n",
      "Test F1: 0.9722222222222222\n",
      "Test AUC: 0.9623015873015873\n",
      "Test AP: 0.9627599090318388\n",
      "Test Confusion Matrix:\n",
      "[[ 60   3]\n",
      " [  3 105]]\n"
     ]
    }
   ],
   "source": [
    "from sdv_synthesizer import sdv_synthesis, sdv_synthesis_cvae\n",
    "method = 'DiffTVAE'\n",
    "\n",
    "x_synthesis, y_synthesis = sdv_synthesis(\n",
    "            x_few_train, y_few_train, method, oversample_num=2000,\n",
    "            seed=seed, init_synthesizer=True, positive_ratio=0.5,\n",
    "        )\n",
    "tabular_model_test(x_synthesis, y_synthesis, x_test, y_test, model_name='xgb')"
   ],
   "metadata": {
    "collapsed": false
   }
  },
  {
   "cell_type": "markdown",
   "source": [
    "#### TabDDPM增强"
   ],
   "metadata": {
    "collapsed": false
   }
  },
  {
   "cell_type": "code",
   "execution_count": null,
   "outputs": [
    {
     "name": "stdout",
     "output_type": "stream",
     "text": [
      "mlp\n",
      "Step 500/10000 MLoss: 0.0 GLoss: 0.217 Sum: 0.217\n",
      "Step 1000/10000 MLoss: 0.0 GLoss: 0.179 Sum: 0.179\n",
      "Step 1500/10000 MLoss: 0.0 GLoss: 0.1657 Sum: 0.1657\n",
      "Step 2000/10000 MLoss: 0.0 GLoss: 0.1604 Sum: 0.1604\n",
      "Step 2500/10000 MLoss: 0.0 GLoss: 0.1497 Sum: 0.1497\n",
      "Step 3000/10000 MLoss: 0.0 GLoss: 0.143 Sum: 0.143\n",
      "Step 3500/10000 MLoss: 0.0 GLoss: 0.1387 Sum: 0.1387\n",
      "Step 4000/10000 MLoss: 0.0 GLoss: 0.1264 Sum: 0.1264\n",
      "Step 4500/10000 MLoss: 0.0 GLoss: 0.1237 Sum: 0.1237\n",
      "Step 5000/10000 MLoss: 0.0 GLoss: 0.1098 Sum: 0.1098\n",
      "Step 5500/10000 MLoss: 0.0 GLoss: 0.1104 Sum: 0.1104\n",
      "Step 6000/10000 MLoss: 0.0 GLoss: 0.1065 Sum: 0.1065\n",
      "Step 6500/10000 MLoss: 0.0 GLoss: 0.099 Sum: 0.099\n",
      "Step 7000/10000 MLoss: 0.0 GLoss: 0.0943 Sum: 0.0943\n",
      "Step 7500/10000 MLoss: 0.0 GLoss: 0.093 Sum: 0.093\n"
     ]
    }
   ],
   "source": [
    "from tab_ddpm.synthesis import ddpm_synthesis\n",
    "\n",
    "method = \"DDPM\"\n",
    "\n",
    "x_synthesis, y_synthesis = ddpm_synthesis(\n",
    "            x_few_train, y_few_train, method, oversample_num=5000, seed=seed, init_synthesizer=True, positive_ratio=None, train_steps=10000)\n",
    "tabular_model_test(x_synthesis, y_synthesis, x_test, y_test, model_name='xgb')\n"
   ],
   "metadata": {
    "collapsed": false,
    "pycharm": {
     "is_executing": true
    }
   }
  },
  {
   "cell_type": "code",
   "execution_count": 20,
   "outputs": [],
   "source": [],
   "metadata": {
    "collapsed": false
   }
  }
 ],
 "metadata": {
  "kernelspec": {
   "display_name": "Python 3",
   "language": "python",
   "name": "python3"
  },
  "language_info": {
   "codemirror_mode": {
    "name": "ipython",
    "version": 2
   },
   "file_extension": ".py",
   "mimetype": "text/x-python",
   "name": "python",
   "nbconvert_exporter": "python",
   "pygments_lexer": "ipython2",
   "version": "2.7.6"
  }
 },
 "nbformat": 4,
 "nbformat_minor": 0
}
